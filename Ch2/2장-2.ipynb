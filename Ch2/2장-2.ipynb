{
 "cells": [
  {
   "cell_type": "markdown",
   "metadata": {},
   "source": [
    "## 2.4 사용자 집단별 추천"
   ]
  },
  {
   "cell_type": "code",
   "execution_count": 1,
   "metadata": {},
   "outputs": [],
   "source": [
    "# 데이터 읽어오기\n",
    "import pandas as pd\n",
    "u_cols = [\"user_id\", \"age\", \"sex\", \"occupation\", \"zip_code\"]\n",
    "users = pd.read_csv(\"../data/u.user\", sep=\"|\", names=u_cols, encoding=\"latin-1\")\n",
    "i_cols = [\"movie_id\", \"title\", \"release date\", \"video release date\", \"IMDB URL\",\n",
    "         \"unknown\", \"Action\",  \"Adventure\", \"Animation\", \"CHildren\\'s\", \"Comedy\",\n",
    "         \"Crime\", \"Documentary\", \"Drama\", \"Fantasy\", \"Film-Noir\", \"Horror\", \"Musical\",\n",
    "         \"Mystery\", \"Romance\", \"Sci-Fi\", \"Thriller\", \"war\", \"western\"]\n",
    "movies = pd.read_csv(\"../data/u.item\", sep=\"|\", names=i_cols, encoding=\"latin-1\")\n",
    "r_cols = [\"user_id\", \"movie_id\", \"rating\", \"timestamp\"]\n",
    "ratings = pd.read_csv(\"../data/u.data\", sep=\"|\", names=r_cols, encoding=\"latin-1\")\n",
    "\n",
    "# timestamp 제거\n",
    "ratings = ratings.drop(\"timestamp\", axis=1)\n",
    "\n",
    "# Movie ID와 title 빼고 다른 데이터 제거\n",
    "movies = movies[[\"movie_id\", \"title\"]]"
   ]
  },
  {
   "cell_type": "code",
   "execution_count": 2,
   "metadata": {},
   "outputs": [],
   "source": [
    "# train, test set 분리\n",
    "from sklearn.model_selection import train_test_split\n",
    "x = ratings.copy()\n",
    "y = ratings[\"user_id\"]\n",
    "x_train, x_test, y_train, y_test = train_test_split(x, y, test_size=0.25)"
   ]
  },
  {
   "cell_type": "code",
   "execution_count": 5,
   "metadata": {},
   "outputs": [],
   "source": [
    "# 정확도(RMSE)를 계산하는 함수\n",
    "import numpy as np\n",
    "\n",
    "def RMSE(y_true, y_pred):\n",
    "    return np.sqrt(np.mean((np.array(y_true) - np.array(y_pred))**2))"
   ]
  },
  {
   "cell_type": "code",
   "execution_count": null,
   "metadata": {},
   "outputs": [],
   "source": []
  }
 ],
 "metadata": {
  "kernelspec": {
   "display_name": "Python 3",
   "language": "python",
   "name": "python3"
  },
  "language_info": {
   "codemirror_mode": {
    "name": "ipython",
    "version": 3
   },
   "file_extension": ".py",
   "mimetype": "text/x-python",
   "name": "python",
   "nbconvert_exporter": "python",
   "pygments_lexer": "ipython3",
   "version": "3.6.9"
  }
 },
 "nbformat": 4,
 "nbformat_minor": 4
}
